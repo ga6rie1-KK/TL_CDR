{
 "cells": [
  {
   "cell_type": "code",
   "execution_count": null,
   "metadata": {},
   "outputs": [],
   "source": [
    "import numpy as np\n",
    "import pandas as pd\n",
    "import gzip\n",
    "from scipy.sparse import coo_matrix"
   ]
  },
  {
   "cell_type": "code",
   "execution_count": null,
   "metadata": {},
   "outputs": [],
   "source": [
    "def parse(path):\n",
    "    g = gzip.open(path, 'rb')\n",
    "    for l in g:\n",
    "        yield json.loads(l)"
   ]
  },
  {
   "cell_type": "code",
   "execution_count": null,
   "metadata": {},
   "outputs": [],
   "source": [
    "def get_df(path):\n",
    "    i = 0\n",
    "    df = {}\n",
    "    for d in parse(path):\n",
    "        df[i] = d\n",
    "        i += 1\n",
    "    return pd.DataFrame.from_dict(df, orient='index')"
   ]
  },
  {
   "cell_type": "code",
   "execution_count": null,
   "metadata": {},
   "outputs": [],
   "source": [
    "def describe(df):\n",
    "    print('rating:', df1.shape[0])\n",
    "    num_user  =len(set(df['reviewerID']))\n",
    "    print('user:', num_user)\n",
    "    num_item = len(set(df['asin']))\n",
    "    print('item:', num_item)\n",
    "    print('user x item:', num_user*num_item)\n",
    "    print('rating null:', df['overall'].isnull().sum())\n",
    "    print('user null:', df['reviewerID'].isnull().sum())\n",
    "    print('item null:', df['asin'].isnull().sum())"
   ]
  },
  {
   "cell_type": "code",
   "execution_count": null,
   "metadata": {},
   "outputs": [],
   "source": [
    "def get_rating_matrix(df):\n",
    "    # delete duplicated review except last one\n",
    "    data = df[['overall', 'reviewerID', 'asin']].drop_duplicates(subset=['reviewerID', 'asin'], keep='last')\n",
    "    \n",
    "    # get indices: sorted user & item \n",
    "    row_idx = sorted(list(set(data['reviewerID'])))\n",
    "    col_idx = sorted(list(set(data['asin'])))\n",
    "    # get coordinate of each item\n",
    "    row = list(map(lambda x: row_idx.index(x), data['reviewerID']))\n",
    "    col = list(map(lambda x: col_idx.index(x), data['asin']))\n",
    "    \n",
    "    # make matrix\n",
    "    num_user = len(row_idx)\n",
    "    num_item = len(col_idx)\n",
    "    matrix = coo_matrix((data['overall'], (row, col)), shape=(num_user, num_item))\n",
    "    \n",
    "    return matrix, row_idx, col_idx"
   ]
  },
  {
   "cell_type": "code",
   "execution_count": null,
   "metadata": {},
   "outputs": [],
   "source": [
    "def split_rating_matrix(rating_matrix, seed=0):\n",
    "    num_rate = rating_matrix.count_nonzero()\n",
    "    num_user = rating_matrix.shape[0]\n",
    "    num_item = rating_matrix.shape[1]\n",
    "    np.random.seed(seed=seed)\n",
    "    \n",
    "    # make train, test mask\n",
    "    random_array = np.random.rand(num_rate)\n",
    "    train_flag = np.where(random_array > 0.8, 0, 1)\n",
    "    train_mask = coo_matrix((train_flag, (rating_matrix.row, rating_matrix.col)), shape=(num_user, num_item))\n",
    "    test_flag = 1 - train_flag\n",
    "    test_mask = coo_matrix((test_flag, (rating_matrix.row, rating_matrix.col)), shape=(num_user, num_item))\n",
    "    \n",
    "    # make train, test matrix\n",
    "    train_matrix = rating_matrix.tocsr().multiply(train_mask.tocsr()).tocoo()\n",
    "    test_matrix = rating_matrix.tocsr().multiply(test_mask.tocsr()).tocoo()\n",
    "    \n",
    "    return train_matrix, test_matrix"
   ]
  },
  {
   "cell_type": "code",
   "execution_count": null,
   "metadata": {},
   "outputs": [],
   "source": [
    "df1 = get_df('data/Appliances_5.json.gz')\n",
    "describe(df1)\n",
    "df1.head()"
   ]
  },
  {
   "cell_type": "code",
   "execution_count": null,
   "metadata": {},
   "outputs": [],
   "source": [
    "rating_matrix, row_idx, col_idx = get_rating_matrix(df1)\n",
    "train_matrix, test_matrix = split_rating_matrix(rating_matrix, seed=1)"
   ]
  },
  {
   "cell_type": "code",
   "execution_count": null,
   "metadata": {},
   "outputs": [],
   "source": [
    "print(rating_matrix.count_nonzero())\n",
    "print(train_matrix.count_nonzero())\n",
    "print(test_matrix.count_nonzero())"
   ]
  },
  {
   "cell_type": "code",
   "execution_count": null,
   "metadata": {},
   "outputs": [],
   "source": [
    "df2 = get_df('data/magazine_Subscriptions_5.json.gz')\n",
    "describe(df2)\n",
    "df2.head()"
   ]
  },
  {
   "cell_type": "code",
   "execution_count": null,
   "metadata": {},
   "outputs": [],
   "source": [
    "rating_matrix, row_idx, col_idx = get_rating_matrix(df2)\n",
    "train_matrix, test_matrix = split_rating_matrix(rating_matrix, seed=1)"
   ]
  },
  {
   "cell_type": "code",
   "execution_count": null,
   "metadata": {},
   "outputs": [],
   "source": [
    "print(rating_matrix.count_nonzero())\n",
    "print(train_matrix.count_nonzero())\n",
    "print(test_matrix.count_nonzero())"
   ]
  },
  {
   "cell_type": "code",
   "execution_count": null,
   "metadata": {},
   "outputs": [],
   "source": []
  }
 ],
 "metadata": {
  "kernelspec": {
   "display_name": "Python 3",
   "language": "python",
   "name": "python3"
  },
  "language_info": {
   "codemirror_mode": {
    "name": "ipython",
    "version": 3
   },
   "file_extension": ".py",
   "mimetype": "text/x-python",
   "name": "python",
   "nbconvert_exporter": "python",
   "pygments_lexer": "ipython3",
   "version": "3.8.5"
  }
 },
 "nbformat": 4,
 "nbformat_minor": 4
}
